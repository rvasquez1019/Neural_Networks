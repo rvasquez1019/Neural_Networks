{
 "cells": [
  {
   "cell_type": "code",
   "execution_count": 1,
   "metadata": {},
   "outputs": [
    {
     "name": "stderr",
     "output_type": "stream",
     "text": [
      "C:\\Users\\chewbacca2019\\anaconda3\\envs\\mlenv\\lib\\site-packages\\tensorflow\\python\\framework\\dtypes.py:516: FutureWarning: Passing (type, 1) or '1type' as a synonym of type is deprecated; in a future version of numpy, it will be understood as (type, (1,)) / '(1,)type'.\n",
      "  _np_qint8 = np.dtype([(\"qint8\", np.int8, 1)])\n",
      "C:\\Users\\chewbacca2019\\anaconda3\\envs\\mlenv\\lib\\site-packages\\tensorflow\\python\\framework\\dtypes.py:517: FutureWarning: Passing (type, 1) or '1type' as a synonym of type is deprecated; in a future version of numpy, it will be understood as (type, (1,)) / '(1,)type'.\n",
      "  _np_quint8 = np.dtype([(\"quint8\", np.uint8, 1)])\n",
      "C:\\Users\\chewbacca2019\\anaconda3\\envs\\mlenv\\lib\\site-packages\\tensorflow\\python\\framework\\dtypes.py:518: FutureWarning: Passing (type, 1) or '1type' as a synonym of type is deprecated; in a future version of numpy, it will be understood as (type, (1,)) / '(1,)type'.\n",
      "  _np_qint16 = np.dtype([(\"qint16\", np.int16, 1)])\n",
      "C:\\Users\\chewbacca2019\\anaconda3\\envs\\mlenv\\lib\\site-packages\\tensorflow\\python\\framework\\dtypes.py:519: FutureWarning: Passing (type, 1) or '1type' as a synonym of type is deprecated; in a future version of numpy, it will be understood as (type, (1,)) / '(1,)type'.\n",
      "  _np_quint16 = np.dtype([(\"quint16\", np.uint16, 1)])\n",
      "C:\\Users\\chewbacca2019\\anaconda3\\envs\\mlenv\\lib\\site-packages\\tensorflow\\python\\framework\\dtypes.py:520: FutureWarning: Passing (type, 1) or '1type' as a synonym of type is deprecated; in a future version of numpy, it will be understood as (type, (1,)) / '(1,)type'.\n",
      "  _np_qint32 = np.dtype([(\"qint32\", np.int32, 1)])\n",
      "C:\\Users\\chewbacca2019\\anaconda3\\envs\\mlenv\\lib\\site-packages\\tensorflow\\python\\framework\\dtypes.py:525: FutureWarning: Passing (type, 1) or '1type' as a synonym of type is deprecated; in a future version of numpy, it will be understood as (type, (1,)) / '(1,)type'.\n",
      "  np_resource = np.dtype([(\"resource\", np.ubyte, 1)])\n",
      "C:\\Users\\chewbacca2019\\anaconda3\\envs\\mlenv\\lib\\site-packages\\tensorboard\\compat\\tensorflow_stub\\dtypes.py:541: FutureWarning: Passing (type, 1) or '1type' as a synonym of type is deprecated; in a future version of numpy, it will be understood as (type, (1,)) / '(1,)type'.\n",
      "  _np_qint8 = np.dtype([(\"qint8\", np.int8, 1)])\n",
      "C:\\Users\\chewbacca2019\\anaconda3\\envs\\mlenv\\lib\\site-packages\\tensorboard\\compat\\tensorflow_stub\\dtypes.py:542: FutureWarning: Passing (type, 1) or '1type' as a synonym of type is deprecated; in a future version of numpy, it will be understood as (type, (1,)) / '(1,)type'.\n",
      "  _np_quint8 = np.dtype([(\"quint8\", np.uint8, 1)])\n",
      "C:\\Users\\chewbacca2019\\anaconda3\\envs\\mlenv\\lib\\site-packages\\tensorboard\\compat\\tensorflow_stub\\dtypes.py:543: FutureWarning: Passing (type, 1) or '1type' as a synonym of type is deprecated; in a future version of numpy, it will be understood as (type, (1,)) / '(1,)type'.\n",
      "  _np_qint16 = np.dtype([(\"qint16\", np.int16, 1)])\n",
      "C:\\Users\\chewbacca2019\\anaconda3\\envs\\mlenv\\lib\\site-packages\\tensorboard\\compat\\tensorflow_stub\\dtypes.py:544: FutureWarning: Passing (type, 1) or '1type' as a synonym of type is deprecated; in a future version of numpy, it will be understood as (type, (1,)) / '(1,)type'.\n",
      "  _np_quint16 = np.dtype([(\"quint16\", np.uint16, 1)])\n",
      "C:\\Users\\chewbacca2019\\anaconda3\\envs\\mlenv\\lib\\site-packages\\tensorboard\\compat\\tensorflow_stub\\dtypes.py:545: FutureWarning: Passing (type, 1) or '1type' as a synonym of type is deprecated; in a future version of numpy, it will be understood as (type, (1,)) / '(1,)type'.\n",
      "  _np_qint32 = np.dtype([(\"qint32\", np.int32, 1)])\n",
      "C:\\Users\\chewbacca2019\\anaconda3\\envs\\mlenv\\lib\\site-packages\\tensorboard\\compat\\tensorflow_stub\\dtypes.py:550: FutureWarning: Passing (type, 1) or '1type' as a synonym of type is deprecated; in a future version of numpy, it will be understood as (type, (1,)) / '(1,)type'.\n",
      "  np_resource = np.dtype([(\"resource\", np.ubyte, 1)])\n"
     ]
    }
   ],
   "source": [
    "# Import our dependencies\n",
    "import pandas as pd\n",
    "import matplotlib as plt\n",
    "from sklearn.datasets import make_blobs\n",
    "import sklearn as skl\n",
    "import tensorflow as tf"
   ]
  },
  {
   "cell_type": "code",
   "execution_count": 2,
   "metadata": {},
   "outputs": [
    {
     "data": {
      "text/plain": [
       "<matplotlib.axes._subplots.AxesSubplot at 0x287eae54148>"
      ]
     },
     "execution_count": 2,
     "metadata": {},
     "output_type": "execute_result"
    },
    {
     "data": {
      "image/png": "[encoded data removed]",
      "text/plain": [
       "<Figure size 432x288 with 2 Axes>"
      ]
     },
     "metadata": {
      "needs_background": "light"
     },
     "output_type": "display_data"
    }
   ],
   "source": [
    "# Generate dummy dataset\n",
    "X, y = make_blobs(n_samples=1000, centers=2, n_features=2, random_state=78)\n",
    "\n",
    "# Creating a DataFrame with the dummy data\n",
    "df = pd.DataFrame(X, columns=[\"Feature 1\", \"Feature 2\"])\n",
    "df[\"Target\"] = y\n",
    "\n",
    "# Plotting the dummy data\n",
    "df.plot.scatter(x=\"Feature 1\", y=\"Feature 2\", c=\"Target\", colormap=\"winter\")"
   ]
  },
  {
   "cell_type": "code",
   "execution_count": 3,
   "metadata": {},
   "outputs": [],
   "source": [
    "# Use sklearn to split dataset\n",
    "from sklearn.model_selection import train_test_split\n",
    "X_train, X_test, y_train, y_test = train_test_split(X, y, random_state=78)"
   ]
  },
  {
   "cell_type": "code",
   "execution_count": 4,
   "metadata": {},
   "outputs": [],
   "source": [
    "# Create scaler instance\n",
    "X_scaler = skl.preprocessing.StandardScaler()\n",
    "\n",
    "# Fit the scaler\n",
    "X_scaler.fit(X_train)\n",
    "\n",
    "# Scale the data\n",
    "X_train_scaled = X_scaler.transform(X_train)\n",
    "X_test_scaled = X_scaler.transform(X_test)"
   ]
  },
  {
   "cell_type": "code",
   "execution_count": 5,
   "metadata": {},
   "outputs": [],
   "source": [
    "# Create the Keras Sequential model\n",
    "nn_model = tf.keras.models.Sequential()"
   ]
  },
  {
   "cell_type": "code",
   "execution_count": 6,
   "metadata": {},
   "outputs": [
    {
     "name": "stdout",
     "output_type": "stream",
     "text": [
      "WARNING:tensorflow:From C:\\Users\\chewbacca2019\\anaconda3\\envs\\mlenv\\lib\\site-packages\\tensorflow\\python\\ops\\init_ops.py:1251: calling VarianceScaling.__init__ (from tensorflow.python.ops.init_ops) with dtype is deprecated and will be removed in a future version.\n",
      "Instructions for updating:\n",
      "Call initializer instance with the dtype argument instead of passing it to the constructor\n"
     ]
    }
   ],
   "source": [
    "# Add our first Dense layer, including the input layer\n",
    "nn_model.add(tf.keras.layers.Dense(units=1, activation=\"relu\", input_dim=2))"
   ]
  },
  {
   "cell_type": "code",
   "execution_count": 7,
   "metadata": {},
   "outputs": [],
   "source": [
    "# Add the output layer that uses a probability activation function\n",
    "nn_model.add(tf.keras.layers.Dense(units=1, activation=\"sigmoid\"))"
   ]
  },
  {
   "cell_type": "code",
   "execution_count": 8,
   "metadata": {},
   "outputs": [
    {
     "name": "stdout",
     "output_type": "stream",
     "text": [
      "Model: \"sequential\"\n",
      "_________________________________________________________________\n",
      "Layer (type)                 Output Shape              Param #   \n",
      "=================================================================\n",
      "dense (Dense)                (None, 1)                 3         \n",
      "_________________________________________________________________\n",
      "dense_1 (Dense)              (None, 1)                 2         \n",
      "=================================================================\n",
      "Total params: 5\n",
      "Trainable params: 5\n",
      "Non-trainable params: 0\n",
      "_________________________________________________________________\n"
     ]
    }
   ],
   "source": [
    "# Check the structure of the Sequential model\n",
    "nn_model.summary()"
   ]
  },
  {
   "cell_type": "code",
   "execution_count": 9,
   "metadata": {},
   "outputs": [
    {
     "name": "stdout",
     "output_type": "stream",
     "text": [
      "WARNING:tensorflow:From C:\\Users\\chewbacca2019\\anaconda3\\envs\\mlenv\\lib\\site-packages\\tensorflow\\python\\ops\\nn_impl.py:180: add_dispatch_support.<locals>.wrapper (from tensorflow.python.ops.array_ops) is deprecated and will be removed in a future version.\n",
      "Instructions for updating:\n",
      "Use tf.where in 2.0, which has the same broadcast rule as np.where\n"
     ]
    }
   ],
   "source": [
    "# Compile the Sequential model together and customize metrics\n",
    "nn_model.compile(loss=\"binary_crossentropy\", optimizer=\"adam\", metrics=[\"accuracy\"])"
   ]
  },
  {
   "cell_type": "code",
   "execution_count": 10,
   "metadata": {},
   "outputs": [
    {
     "name": "stdout",
     "output_type": "stream",
     "text": [
      "Epoch 1/100\n",
      "750/750 [==============================] - 0s 528us/sample - loss: 0.5264 - acc: 0.9333\n",
      "Epoch 2/100\n",
      "750/750 [==============================] - 0s 81us/sample - loss: 0.5114 - acc: 0.9867\n",
      "Epoch 3/100\n",
      "750/750 [==============================] - 0s 92us/sample - loss: 0.4962 - acc: 0.9920\n",
      "Epoch 4/100\n",
      "750/750 [==============================] - 0s 80us/sample - loss: 0.4812 - acc: 0.9947\n",
      "Epoch 5/100\n",
      "750/750 [==============================] - 0s 95us/sample - loss: 0.4663 - acc: 0.9960\n",
      "Epoch 6/100\n",
      "750/750 [==============================] - 0s 92us/sample - loss: 0.4519 - acc: 0.9987\n",
      "Epoch 7/100\n",
      "750/750 [==============================] - 0s 75us/sample - loss: 0.4378 - acc: 0.9987\n",
      "Epoch 8/100\n",
      "750/750 [==============================] - 0s 91us/sample - loss: 0.4242 - acc: 1.0000\n",
      "Epoch 9/100\n",
      "750/750 [==============================] - 0s 99us/sample - loss: 0.4110 - acc: 1.0000\n",
      "Epoch 10/100\n",
      "750/750 [==============================] - 0s 99us/sample - loss: 0.3983 - acc: 1.0000\n",
      "Epoch 11/100\n",
      "750/750 [==============================] - 0s 95us/sample - loss: 0.3861 - acc: 1.0000\n",
      "Epoch 12/100\n",
      "750/750 [==============================] - 0s 136us/sample - loss: 0.3743 - acc: 1.0000\n",
      "Epoch 13/100\n",
      "750/750 [==============================] - 0s 97us/sample - loss: 0.3631 - acc: 1.0000\n",
      "Epoch 14/100\n",
      "750/750 [==============================] - 0s 108us/sample - loss: 0.3524 - acc: 1.0000\n",
      "Epoch 15/100\n",
      "750/750 [==============================] - 0s 111us/sample - loss: 0.3422 - acc: 1.0000\n",
      "Epoch 16/100\n",
      "750/750 [==============================] - 0s 123us/sample - loss: 0.3324 - acc: 1.0000\n",
      "Epoch 17/100\n",
      "750/750 [==============================] - 0s 116us/sample - loss: 0.3230 - acc: 1.0000\n",
      "Epoch 18/100\n",
      "750/750 [==============================] - 0s 124us/sample - loss: 0.3141 - acc: 1.0000\n",
      "Epoch 19/100\n",
      "750/750 [==============================] - 0s 143us/sample - loss: 0.3056 - acc: 1.0000\n",
      "Epoch 20/100\n",
      "750/750 [==============================] - 0s 176us/sample - loss: 0.2974 - acc: 1.0000\n",
      "Epoch 21/100\n",
      "750/750 [==============================] - 0s 131us/sample - loss: 0.2895 - acc: 1.0000\n",
      "Epoch 22/100\n",
      "750/750 [==============================] - 0s 141us/sample - loss: 0.2821 - acc: 1.0000\n",
      "Epoch 23/100\n",
      "750/750 [==============================] - 0s 180us/sample - loss: 0.2749 - acc: 1.0000\n",
      "Epoch 24/100\n",
      "750/750 [==============================] - 0s 167us/sample - loss: 0.2680 - acc: 1.0000\n",
      "Epoch 25/100\n",
      "750/750 [==============================] - 0s 124us/sample - loss: 0.2614 - acc: 1.0000\n",
      "Epoch 26/100\n",
      "750/750 [==============================] - 0s 127us/sample - loss: 0.2551 - acc: 1.0000\n",
      "Epoch 27/100\n",
      "750/750 [==============================] - 0s 123us/sample - loss: 0.2490 - acc: 1.0000\n",
      "Epoch 28/100\n",
      "750/750 [==============================] - 0s 136us/sample - loss: 0.2432 - acc: 1.0000\n",
      "Epoch 29/100\n",
      "750/750 [==============================] - 0s 136us/sample - loss: 0.2375 - acc: 1.0000\n",
      "Epoch 30/100\n",
      "750/750 [==============================] - 0s 96us/sample - loss: 0.2321 - acc: 1.0000\n",
      "Epoch 31/100\n",
      "750/750 [==============================] - 0s 140us/sample - loss: 0.2269 - acc: 1.0000\n",
      "Epoch 32/100\n",
      "750/750 [==============================] - 0s 128us/sample - loss: 0.2218 - acc: 1.0000\n",
      "Epoch 33/100\n",
      "750/750 [==============================] - 0s 136us/sample - loss: 0.2170 - acc: 1.0000\n",
      "Epoch 34/100\n",
      "750/750 [==============================] - 0s 144us/sample - loss: 0.2123 - acc: 1.0000\n",
      "Epoch 35/100\n",
      "750/750 [==============================] - 0s 117us/sample - loss: 0.2077 - acc: 1.0000\n",
      "Epoch 36/100\n",
      "750/750 [==============================] - 0s 137us/sample - loss: 0.2034 - acc: 1.0000\n",
      "Epoch 37/100\n",
      "750/750 [==============================] - 0s 137us/sample - loss: 0.1991 - acc: 1.0000\n",
      "Epoch 38/100\n",
      "750/750 [==============================] - 0s 174us/sample - loss: 0.1950 - acc: 1.0000\n",
      "Epoch 39/100\n",
      "750/750 [==============================] - 0s 112us/sample - loss: 0.1910 - acc: 1.0000\n",
      "Epoch 40/100\n",
      "750/750 [==============================] - 0s 151us/sample - loss: 0.1871 - acc: 1.0000\n",
      "Epoch 41/100\n",
      "750/750 [==============================] - 0s 165us/sample - loss: 0.1834 - acc: 1.0000\n",
      "Epoch 42/100\n",
      "750/750 [==============================] - 0s 135us/sample - loss: 0.1797 - acc: 1.0000\n",
      "Epoch 43/100\n",
      "750/750 [==============================] - 0s 137us/sample - loss: 0.1762 - acc: 1.0000\n",
      "Epoch 44/100\n",
      "750/750 [==============================] - 0s 143us/sample - loss: 0.1728 - acc: 1.0000\n",
      "Epoch 45/100\n",
      "750/750 [==============================] - 0s 123us/sample - loss: 0.1695 - acc: 1.0000\n",
      "Epoch 46/100\n",
      "750/750 [==============================] - 0s 165us/sample - loss: 0.1663 - acc: 1.0000\n",
      "Epoch 47/100\n",
      "750/750 [==============================] - 0s 183us/sample - loss: 0.1631 - acc: 1.0000\n",
      "Epoch 48/100\n",
      "750/750 [==============================] - 0s 172us/sample - loss: 0.1601 - acc: 1.0000\n",
      "Epoch 49/100\n",
      "750/750 [==============================] - 0s 183us/sample - loss: 0.1571 - acc: 1.0000\n",
      "Epoch 50/100\n",
      "750/750 [==============================] - 0s 89us/sample - loss: 0.1542 - acc: 1.0000\n",
      "Epoch 51/100\n",
      "750/750 [==============================] - 0s 83us/sample - loss: 0.1514 - acc: 1.0000\n",
      "Epoch 52/100\n",
      "750/750 [==============================] - 0s 88us/sample - loss: 0.1486 - acc: 1.0000\n",
      "Epoch 53/100\n",
      "750/750 [==============================] - 0s 88us/sample - loss: 0.1459 - acc: 1.0000\n",
      "Epoch 54/100\n",
      "750/750 [==============================] - 0s 72us/sample - loss: 0.1434 - acc: 1.0000\n",
      "Epoch 55/100\n",
      "750/750 [==============================] - 0s 73us/sample - loss: 0.1408 - acc: 1.0000\n",
      "Epoch 56/100\n",
      "750/750 [==============================] - 0s 67us/sample - loss: 0.1383 - acc: 1.0000\n",
      "Epoch 57/100\n",
      "750/750 [==============================] - 0s 69us/sample - loss: 0.1359 - acc: 1.0000\n",
      "Epoch 58/100\n",
      "750/750 [==============================] - 0s 68us/sample - loss: 0.1336 - acc: 1.0000\n",
      "Epoch 59/100\n",
      "750/750 [==============================] - 0s 71us/sample - loss: 0.1312 - acc: 1.0000\n",
      "Epoch 60/100\n",
      "750/750 [==============================] - 0s 64us/sample - loss: 0.1290 - acc: 1.0000\n",
      "Epoch 61/100\n",
      "750/750 [==============================] - 0s 125us/sample - loss: 0.1268 - acc: 1.0000\n",
      "Epoch 62/100\n",
      "750/750 [==============================] - 0s 108us/sample - loss: 0.1247 - acc: 1.0000\n",
      "Epoch 63/100\n",
      "750/750 [==============================] - 0s 109us/sample - loss: 0.1226 - acc: 1.0000\n",
      "Epoch 64/100\n",
      "750/750 [==============================] - 0s 68us/sample - loss: 0.1205 - acc: 1.0000\n",
      "Epoch 65/100\n",
      "750/750 [==============================] - 0s 84us/sample - loss: 0.1185 - acc: 1.0000\n",
      "Epoch 66/100\n",
      "750/750 [==============================] - 0s 87us/sample - loss: 0.1165 - acc: 1.0000\n",
      "Epoch 67/100\n",
      "750/750 [==============================] - 0s 93us/sample - loss: 0.1146 - acc: 1.0000\n",
      "Epoch 68/100\n",
      "750/750 [==============================] - 0s 85us/sample - loss: 0.1128 - acc: 1.0000\n",
      "Epoch 69/100\n",
      "750/750 [==============================] - 0s 85us/sample - loss: 0.1109 - acc: 1.0000\n",
      "Epoch 70/100\n",
      "750/750 [==============================] - 0s 88us/sample - loss: 0.1092 - acc: 1.0000\n",
      "Epoch 71/100\n",
      "750/750 [==============================] - 0s 88us/sample - loss: 0.1074 - acc: 1.0000\n",
      "Epoch 72/100\n",
      "750/750 [==============================] - 0s 97us/sample - loss: 0.1057 - acc: 1.0000\n",
      "Epoch 73/100\n",
      "750/750 [==============================] - 0s 95us/sample - loss: 0.1040 - acc: 1.0000\n",
      "Epoch 74/100\n",
      "750/750 [==============================] - 0s 92us/sample - loss: 0.1024 - acc: 1.0000\n",
      "Epoch 75/100\n",
      "750/750 [==============================] - 0s 71us/sample - loss: 0.1008 - acc: 1.0000\n",
      "Epoch 76/100\n",
      "750/750 [==============================] - 0s 83us/sample - loss: 0.0992 - acc: 1.0000\n",
      "Epoch 77/100\n",
      "750/750 [==============================] - ETA: 0s - loss: 0.0977 - acc: 1.000 - 0s 148us/sample - loss: 0.0977 - acc: 1.0000\n",
      "Epoch 78/100\n",
      "750/750 [==============================] - 0s 228us/sample - loss: 0.0962 - acc: 1.0000\n",
      "Epoch 79/100\n",
      "750/750 [==============================] - 0s 115us/sample - loss: 0.0947 - acc: 1.0000\n",
      "Epoch 80/100\n",
      "750/750 [==============================] - 0s 105us/sample - loss: 0.0933 - acc: 1.0000\n",
      "Epoch 81/100\n",
      "750/750 [==============================] - 0s 133us/sample - loss: 0.0918 - acc: 1.0000\n",
      "Epoch 82/100\n"
     ]
    },
    {
     "name": "stdout",
     "output_type": "stream",
     "text": [
      "750/750 [==============================] - 0s 96us/sample - loss: 0.0905 - acc: 1.0000\n",
      "Epoch 83/100\n",
      "750/750 [==============================] - 0s 84us/sample - loss: 0.0891 - acc: 1.0000\n",
      "Epoch 84/100\n",
      "750/750 [==============================] - 0s 69us/sample - loss: 0.0877 - acc: 1.0000\n",
      "Epoch 85/100\n",
      "750/750 [==============================] - 0s 72us/sample - loss: 0.0864 - acc: 1.0000\n",
      "Epoch 86/100\n",
      "750/750 [==============================] - 0s 71us/sample - loss: 0.0851 - acc: 1.0000\n",
      "Epoch 87/100\n",
      "750/750 [==============================] - 0s 68us/sample - loss: 0.0839 - acc: 1.0000\n",
      "Epoch 88/100\n",
      "750/750 [==============================] - 0s 68us/sample - loss: 0.0826 - acc: 1.0000\n",
      "Epoch 89/100\n",
      "750/750 [==============================] - 0s 89us/sample - loss: 0.0814 - acc: 1.0000\n",
      "Epoch 90/100\n",
      "750/750 [==============================] - 0s 91us/sample - loss: 0.0802 - acc: 1.0000\n",
      "Epoch 91/100\n",
      "750/750 [==============================] - 0s 81us/sample - loss: 0.0791 - acc: 1.0000\n",
      "Epoch 92/100\n",
      "750/750 [==============================] - 0s 87us/sample - loss: 0.0780 - acc: 1.0000\n",
      "Epoch 93/100\n",
      "750/750 [==============================] - 0s 87us/sample - loss: 0.0768 - acc: 1.0000\n",
      "Epoch 94/100\n",
      "750/750 [==============================] - 0s 73us/sample - loss: 0.0757 - acc: 1.0000\n",
      "Epoch 95/100\n",
      "750/750 [==============================] - 0s 73us/sample - loss: 0.0746 - acc: 1.0000\n",
      "Epoch 96/100\n",
      "750/750 [==============================] - 0s 64us/sample - loss: 0.0736 - acc: 1.0000\n",
      "Epoch 97/100\n",
      "750/750 [==============================] - 0s 65us/sample - loss: 0.0725 - acc: 1.0000\n",
      "Epoch 98/100\n",
      "750/750 [==============================] - 0s 81us/sample - loss: 0.0715 - acc: 1.0000\n",
      "Epoch 99/100\n",
      "750/750 [==============================] - 0s 71us/sample - loss: 0.0705 - acc: 1.0000\n",
      "Epoch 100/100\n",
      "750/750 [==============================] - 0s 69us/sample - loss: 0.0695 - acc: 1.0000\n"
     ]
    }
   ],
   "source": [
    "# Fit the model to the training data\n",
    "fit_model = nn_model.fit(X_train_scaled, y_train, epochs=100)"
   ]
  },
  {
   "cell_type": "code",
   "execution_count": 11,
   "metadata": {},
   "outputs": [
    {
     "data": {
      "text/plain": [
       "<matplotlib.axes._subplots.AxesSubplot at 0x287ed90d9c8>"
      ]
     },
     "execution_count": 11,
     "metadata": {},
     "output_type": "execute_result"
    },
    {
     "data": {
      "image/png": "[encoded data removed]",
      "text/plain": [
       "<Figure size 432x288 with 1 Axes>"
      ]
     },
     "metadata": {
      "needs_background": "light"
     },
     "output_type": "display_data"
    }
   ],
   "source": [
    "# Create a DataFrame containing training history\n",
    "history_df = pd.DataFrame(fit_model.history, index=range(1,len(fit_model.history[\"loss\"])+1))\n",
    "\n",
    "# Plot the loss\n",
    "history_df.plot(y=\"loss\")"
   ]
  },
  {
   "cell_type": "code",
   "execution_count": 12,
   "metadata": {},
   "outputs": [
    {
     "ename": "KeyError",
     "evalue": "'accuracy'",
     "output_type": "error",
     "traceback": [
      "\u001b[1;31m---------------------------------------------------------------------------\u001b[0m",
      "\u001b[1;31mKeyError\u001b[0m                                  Traceback (most recent call last)",
      "\u001b[1;32m~\\anaconda3\\envs\\mlenv\\lib\\site-packages\\pandas\\core\\indexes\\base.py\u001b[0m in \u001b[0;36mget_loc\u001b[1;34m(self, key, method, tolerance)\u001b[0m\n\u001b[0;32m   2645\u001b[0m             \u001b[1;32mtry\u001b[0m\u001b[1;33m:\u001b[0m\u001b[1;33m\u001b[0m\u001b[1;33m\u001b[0m\u001b[0m\n\u001b[1;32m-> 2646\u001b[1;33m                 \u001b[1;32mreturn\u001b[0m \u001b[0mself\u001b[0m\u001b[1;33m.\u001b[0m\u001b[0m_engine\u001b[0m\u001b[1;33m.\u001b[0m\u001b[0mget_loc\u001b[0m\u001b[1;33m(\u001b[0m\u001b[0mkey\u001b[0m\u001b[1;33m)\u001b[0m\u001b[1;33m\u001b[0m\u001b[1;33m\u001b[0m\u001b[0m\n\u001b[0m\u001b[0;32m   2647\u001b[0m             \u001b[1;32mexcept\u001b[0m \u001b[0mKeyError\u001b[0m\u001b[1;33m:\u001b[0m\u001b[1;33m\u001b[0m\u001b[1;33m\u001b[0m\u001b[0m\n",
      "\u001b[1;32mpandas\\_libs\\index.pyx\u001b[0m in \u001b[0;36mpandas._libs.index.IndexEngine.get_loc\u001b[1;34m()\u001b[0m\n",
      "\u001b[1;32mpandas\\_libs\\index.pyx\u001b[0m in \u001b[0;36mpandas._libs.index.IndexEngine.get_loc\u001b[1;34m()\u001b[0m\n",
      "\u001b[1;32mpandas\\_libs\\hashtable_class_helper.pxi\u001b[0m in \u001b[0;36mpandas._libs.hashtable.PyObjectHashTable.get_item\u001b[1;34m()\u001b[0m\n",
      "\u001b[1;32mpandas\\_libs\\hashtable_class_helper.pxi\u001b[0m in \u001b[0;36mpandas._libs.hashtable.PyObjectHashTable.get_item\u001b[1;34m()\u001b[0m\n",
      "\u001b[1;31mKeyError\u001b[0m: 'accuracy'",
      "\nDuring handling of the above exception, another exception occurred:\n",
      "\u001b[1;31mKeyError\u001b[0m                                  Traceback (most recent call last)",
      "\u001b[1;32m<ipython-input-12-66009b376660>\u001b[0m in \u001b[0;36m<module>\u001b[1;34m\u001b[0m\n\u001b[0;32m      1\u001b[0m \u001b[1;31m# Plot the accuracy\u001b[0m\u001b[1;33m\u001b[0m\u001b[1;33m\u001b[0m\u001b[1;33m\u001b[0m\u001b[0m\n\u001b[1;32m----> 2\u001b[1;33m \u001b[0mhistory_df\u001b[0m\u001b[1;33m.\u001b[0m\u001b[0mplot\u001b[0m\u001b[1;33m(\u001b[0m\u001b[0my\u001b[0m\u001b[1;33m=\u001b[0m\u001b[1;34m\"accuracy\"\u001b[0m\u001b[1;33m)\u001b[0m\u001b[1;33m\u001b[0m\u001b[1;33m\u001b[0m\u001b[0m\n\u001b[0m",
      "\u001b[1;32m~\\anaconda3\\envs\\mlenv\\lib\\site-packages\\pandas\\plotting\\_core.py\u001b[0m in \u001b[0;36m__call__\u001b[1;34m(self, *args, **kwargs)\u001b[0m\n\u001b[0;32m    831\u001b[0m \u001b[1;33m\u001b[0m\u001b[0m\n\u001b[0;32m    832\u001b[0m                 \u001b[1;31m# don't overwrite\u001b[0m\u001b[1;33m\u001b[0m\u001b[1;33m\u001b[0m\u001b[1;33m\u001b[0m\u001b[0m\n\u001b[1;32m--> 833\u001b[1;33m                 \u001b[0mdata\u001b[0m \u001b[1;33m=\u001b[0m \u001b[0mdata\u001b[0m\u001b[1;33m[\u001b[0m\u001b[0my\u001b[0m\u001b[1;33m]\u001b[0m\u001b[1;33m.\u001b[0m\u001b[0mcopy\u001b[0m\u001b[1;33m(\u001b[0m\u001b[1;33m)\u001b[0m\u001b[1;33m\u001b[0m\u001b[1;33m\u001b[0m\u001b[0m\n\u001b[0m\u001b[0;32m    834\u001b[0m \u001b[1;33m\u001b[0m\u001b[0m\n\u001b[0;32m    835\u001b[0m                 \u001b[1;32mif\u001b[0m \u001b[0misinstance\u001b[0m\u001b[1;33m(\u001b[0m\u001b[0mdata\u001b[0m\u001b[1;33m,\u001b[0m \u001b[0mABCSeries\u001b[0m\u001b[1;33m)\u001b[0m\u001b[1;33m:\u001b[0m\u001b[1;33m\u001b[0m\u001b[1;33m\u001b[0m\u001b[0m\n",
      "\u001b[1;32m~\\anaconda3\\envs\\mlenv\\lib\\site-packages\\pandas\\core\\frame.py\u001b[0m in \u001b[0;36m__getitem__\u001b[1;34m(self, key)\u001b[0m\n\u001b[0;32m   2798\u001b[0m             \u001b[1;32mif\u001b[0m \u001b[0mself\u001b[0m\u001b[1;33m.\u001b[0m\u001b[0mcolumns\u001b[0m\u001b[1;33m.\u001b[0m\u001b[0mnlevels\u001b[0m \u001b[1;33m>\u001b[0m \u001b[1;36m1\u001b[0m\u001b[1;33m:\u001b[0m\u001b[1;33m\u001b[0m\u001b[1;33m\u001b[0m\u001b[0m\n\u001b[0;32m   2799\u001b[0m                 \u001b[1;32mreturn\u001b[0m \u001b[0mself\u001b[0m\u001b[1;33m.\u001b[0m\u001b[0m_getitem_multilevel\u001b[0m\u001b[1;33m(\u001b[0m\u001b[0mkey\u001b[0m\u001b[1;33m)\u001b[0m\u001b[1;33m\u001b[0m\u001b[1;33m\u001b[0m\u001b[0m\n\u001b[1;32m-> 2800\u001b[1;33m             \u001b[0mindexer\u001b[0m \u001b[1;33m=\u001b[0m \u001b[0mself\u001b[0m\u001b[1;33m.\u001b[0m\u001b[0mcolumns\u001b[0m\u001b[1;33m.\u001b[0m\u001b[0mget_loc\u001b[0m\u001b[1;33m(\u001b[0m\u001b[0mkey\u001b[0m\u001b[1;33m)\u001b[0m\u001b[1;33m\u001b[0m\u001b[1;33m\u001b[0m\u001b[0m\n\u001b[0m\u001b[0;32m   2801\u001b[0m             \u001b[1;32mif\u001b[0m \u001b[0mis_integer\u001b[0m\u001b[1;33m(\u001b[0m\u001b[0mindexer\u001b[0m\u001b[1;33m)\u001b[0m\u001b[1;33m:\u001b[0m\u001b[1;33m\u001b[0m\u001b[1;33m\u001b[0m\u001b[0m\n\u001b[0;32m   2802\u001b[0m                 \u001b[0mindexer\u001b[0m \u001b[1;33m=\u001b[0m \u001b[1;33m[\u001b[0m\u001b[0mindexer\u001b[0m\u001b[1;33m]\u001b[0m\u001b[1;33m\u001b[0m\u001b[1;33m\u001b[0m\u001b[0m\n",
      "\u001b[1;32m~\\anaconda3\\envs\\mlenv\\lib\\site-packages\\pandas\\core\\indexes\\base.py\u001b[0m in \u001b[0;36mget_loc\u001b[1;34m(self, key, method, tolerance)\u001b[0m\n\u001b[0;32m   2646\u001b[0m                 \u001b[1;32mreturn\u001b[0m \u001b[0mself\u001b[0m\u001b[1;33m.\u001b[0m\u001b[0m_engine\u001b[0m\u001b[1;33m.\u001b[0m\u001b[0mget_loc\u001b[0m\u001b[1;33m(\u001b[0m\u001b[0mkey\u001b[0m\u001b[1;33m)\u001b[0m\u001b[1;33m\u001b[0m\u001b[1;33m\u001b[0m\u001b[0m\n\u001b[0;32m   2647\u001b[0m             \u001b[1;32mexcept\u001b[0m \u001b[0mKeyError\u001b[0m\u001b[1;33m:\u001b[0m\u001b[1;33m\u001b[0m\u001b[1;33m\u001b[0m\u001b[0m\n\u001b[1;32m-> 2648\u001b[1;33m                 \u001b[1;32mreturn\u001b[0m \u001b[0mself\u001b[0m\u001b[1;33m.\u001b[0m\u001b[0m_engine\u001b[0m\u001b[1;33m.\u001b[0m\u001b[0mget_loc\u001b[0m\u001b[1;33m(\u001b[0m\u001b[0mself\u001b[0m\u001b[1;33m.\u001b[0m\u001b[0m_maybe_cast_indexer\u001b[0m\u001b[1;33m(\u001b[0m\u001b[0mkey\u001b[0m\u001b[1;33m)\u001b[0m\u001b[1;33m)\u001b[0m\u001b[1;33m\u001b[0m\u001b[1;33m\u001b[0m\u001b[0m\n\u001b[0m\u001b[0;32m   2649\u001b[0m         \u001b[0mindexer\u001b[0m \u001b[1;33m=\u001b[0m \u001b[0mself\u001b[0m\u001b[1;33m.\u001b[0m\u001b[0mget_indexer\u001b[0m\u001b[1;33m(\u001b[0m\u001b[1;33m[\u001b[0m\u001b[0mkey\u001b[0m\u001b[1;33m]\u001b[0m\u001b[1;33m,\u001b[0m \u001b[0mmethod\u001b[0m\u001b[1;33m=\u001b[0m\u001b[0mmethod\u001b[0m\u001b[1;33m,\u001b[0m \u001b[0mtolerance\u001b[0m\u001b[1;33m=\u001b[0m\u001b[0mtolerance\u001b[0m\u001b[1;33m)\u001b[0m\u001b[1;33m\u001b[0m\u001b[1;33m\u001b[0m\u001b[0m\n\u001b[0;32m   2650\u001b[0m         \u001b[1;32mif\u001b[0m \u001b[0mindexer\u001b[0m\u001b[1;33m.\u001b[0m\u001b[0mndim\u001b[0m \u001b[1;33m>\u001b[0m \u001b[1;36m1\u001b[0m \u001b[1;32mor\u001b[0m \u001b[0mindexer\u001b[0m\u001b[1;33m.\u001b[0m\u001b[0msize\u001b[0m \u001b[1;33m>\u001b[0m \u001b[1;36m1\u001b[0m\u001b[1;33m:\u001b[0m\u001b[1;33m\u001b[0m\u001b[1;33m\u001b[0m\u001b[0m\n",
      "\u001b[1;32mpandas\\_libs\\index.pyx\u001b[0m in \u001b[0;36mpandas._libs.index.IndexEngine.get_loc\u001b[1;34m()\u001b[0m\n",
      "\u001b[1;32mpandas\\_libs\\index.pyx\u001b[0m in \u001b[0;36mpandas._libs.index.IndexEngine.get_loc\u001b[1;34m()\u001b[0m\n",
      "\u001b[1;32mpandas\\_libs\\hashtable_class_helper.pxi\u001b[0m in \u001b[0;36mpandas._libs.hashtable.PyObjectHashTable.get_item\u001b[1;34m()\u001b[0m\n",
      "\u001b[1;32mpandas\\_libs\\hashtable_class_helper.pxi\u001b[0m in \u001b[0;36mpandas._libs.hashtable.PyObjectHashTable.get_item\u001b[1;34m()\u001b[0m\n",
      "\u001b[1;31mKeyError\u001b[0m: 'accuracy'"
     ]
    }
   ],
   "source": [
    "# Plot the accuracy\n",
    "history_df.plot(y=\"accuracy\")"
   ]
  },
  {
   "cell_type": "code",
   "execution_count": 13,
   "metadata": {},
   "outputs": [
    {
     "name": "stdout",
     "output_type": "stream",
     "text": [
      "250/250 - 0s - loss: 0.0653 - acc: 1.0000\n",
      "Loss: 0.06534017860889435, Accuracy: 1.0\n"
     ]
    }
   ],
   "source": [
    "# Evaluate the model using the test data\n",
    "model_loss, model_accuracy = nn_model.evaluate(X_test_scaled,y_test,verbose=2)\n",
    "print(f\"Loss: {model_loss}, Accuracy: {model_accuracy}\")"
   ]
  },
  {
   "cell_type": "code",
   "execution_count": 14,
   "metadata": {},
   "outputs": [
    {
     "data": {
      "text/plain": [
       "array([[0],\n",
       "       [1],\n",
       "       [0],\n",
       "       [1],\n",
       "       [0],\n",
       "       [0],\n",
       "       [1],\n",
       "       [1],\n",
       "       [1],\n",
       "       [0]])"
      ]
     },
     "execution_count": 14,
     "metadata": {},
     "output_type": "execute_result"
    }
   ],
   "source": [
    "# Predict the classification of a new set of blob data\n",
    "new_X, new_Y = make_blobs(n_samples=10, centers=2, n_features=2, random_state=78)\n",
    "new_X_scaled = X_scaler.transform(new_X)\n",
    "nn_model.predict_classes(new_X_scaled)"
   ]
  },
  {
   "cell_type": "code",
   "execution_count": 15,
   "metadata": {},
   "outputs": [
    {
     "data": {
      "text/plain": [
       "<matplotlib.axes._subplots.AxesSubplot at 0x287eec21608>"
      ]
     },
     "execution_count": 15,
     "metadata": {},
     "output_type": "execute_result"
    },
    {
     "data": {
      "image/png": "[encoded data removed]",
      "text/plain": [
       "<Figure size 432x288 with 2 Axes>"
      ]
     },
     "metadata": {
      "needs_background": "light"
     },
     "output_type": "display_data"
    }
   ],
   "source": [
    "from sklearn.datasets import make_moons\n",
    "\n",
    "# Creating dummy nonlinear data\n",
    "X_moons, y_moons = make_moons(n_samples=1000, noise=0.08, random_state=78)\n",
    "\n",
    "# Transforming y_moons to a vertical vector\n",
    "y_moons = y_moons.reshape(-1, 1)\n",
    "\n",
    "# Creating a DataFrame to plot the nonlinear dummy data\n",
    "df_moons = pd.DataFrame(X_moons, columns=[\"Feature 1\", \"Feature 2\"])\n",
    "df_moons[\"Target\"] = y_moons\n",
    "\n",
    "# Plot the nonlinear dummy data\n",
    "df_moons.plot.scatter(x=\"Feature 1\",y=\"Feature 2\", c=\"Target\",colormap=\"winter\")"
   ]
  },
  {
   "cell_type": "code",
   "execution_count": 16,
   "metadata": {},
   "outputs": [],
   "source": [
    "# Create training and testing sets\n",
    "X_moon_train, X_moon_test, y_moon_train, y_moon_test = train_test_split(\n",
    "    X_moons, y_moons, random_state=78\n",
    ")\n",
    "\n",
    "# Create the scaler instance\n",
    "X_moon_scaler = skl.preprocessing.StandardScaler()\n",
    "\n",
    "# Fit the scaler\n",
    "X_moon_scaler.fit(X_moon_train)\n",
    "\n",
    "# Scale the data\n",
    "X_moon_train_scaled = X_moon_scaler.transform(X_moon_train)\n",
    "X_moon_test_scaled = X_moon_scaler.transform(X_moon_test)"
   ]
  },
  {
   "cell_type": "code",
   "execution_count": 17,
   "metadata": {},
   "outputs": [
    {
     "name": "stdout",
     "output_type": "stream",
     "text": [
      "Epoch 1/100\n",
      "750/750 [==============================] - 0s 85us/sample - loss: 0.7942 - acc: 0.6413\n",
      "Epoch 2/100\n",
      "750/750 [==============================] - 0s 107us/sample - loss: 0.7036 - acc: 0.6600\n",
      "Epoch 3/100\n",
      "750/750 [==============================] - 0s 95us/sample - loss: 0.6438 - acc: 0.6747\n",
      "Epoch 4/100\n",
      "750/750 [==============================] - 0s 93us/sample - loss: 0.6014 - acc: 0.6893\n",
      "Epoch 5/100\n",
      "750/750 [==============================] - 0s 96us/sample - loss: 0.5711 - acc: 0.6987\n",
      "Epoch 6/100\n",
      "750/750 [==============================] - 0s 96us/sample - loss: 0.5468 - acc: 0.7120\n",
      "Epoch 7/100\n",
      "750/750 [==============================] - 0s 95us/sample - loss: 0.5275 - acc: 0.7307\n",
      "Epoch 8/100\n",
      "750/750 [==============================] - 0s 117us/sample - loss: 0.5108 - acc: 0.7373\n",
      "Epoch 9/100\n",
      "750/750 [==============================] - 0s 91us/sample - loss: 0.4963 - acc: 0.7400\n",
      "Epoch 10/100\n",
      "750/750 [==============================] - 0s 88us/sample - loss: 0.4840 - acc: 0.7480\n",
      "Epoch 11/100\n",
      "750/750 [==============================] - 0s 121us/sample - loss: 0.4722 - acc: 0.7547\n",
      "Epoch 12/100\n",
      "750/750 [==============================] - 0s 84us/sample - loss: 0.4609 - acc: 0.7587\n",
      "Epoch 13/100\n",
      "750/750 [==============================] - 0s 87us/sample - loss: 0.4506 - acc: 0.7667\n",
      "Epoch 14/100\n",
      "750/750 [==============================] - 0s 101us/sample - loss: 0.4409 - acc: 0.7707\n",
      "Epoch 15/100\n",
      "750/750 [==============================] - 0s 100us/sample - loss: 0.4323 - acc: 0.7773\n",
      "Epoch 16/100\n",
      "750/750 [==============================] - 0s 137us/sample - loss: 0.4240 - acc: 0.7800\n",
      "Epoch 17/100\n",
      "750/750 [==============================] - 0s 96us/sample - loss: 0.4161 - acc: 0.7827\n",
      "Epoch 18/100\n",
      "750/750 [==============================] - 0s 97us/sample - loss: 0.4084 - acc: 0.7893\n",
      "Epoch 19/100\n",
      "750/750 [==============================] - 0s 92us/sample - loss: 0.4013 - acc: 0.7960\n",
      "Epoch 20/100\n",
      "750/750 [==============================] - 0s 111us/sample - loss: 0.3944 - acc: 0.8053\n",
      "Epoch 21/100\n",
      "750/750 [==============================] - 0s 72us/sample - loss: 0.3880 - acc: 0.8120\n",
      "Epoch 22/100\n",
      "750/750 [==============================] - 0s 84us/sample - loss: 0.3818 - acc: 0.8133\n",
      "Epoch 23/100\n",
      "750/750 [==============================] - 0s 115us/sample - loss: 0.3759 - acc: 0.8133\n",
      "Epoch 24/100\n",
      "750/750 [==============================] - 0s 83us/sample - loss: 0.3703 - acc: 0.8160\n",
      "Epoch 25/100\n",
      "750/750 [==============================] - 0s 115us/sample - loss: 0.3646 - acc: 0.8213\n",
      "Epoch 26/100\n",
      "750/750 [==============================] - 0s 97us/sample - loss: 0.3593 - acc: 0.8227\n",
      "Epoch 27/100\n",
      "750/750 [==============================] - 0s 115us/sample - loss: 0.3543 - acc: 0.8227\n",
      "Epoch 28/100\n",
      "750/750 [==============================] - 0s 103us/sample - loss: 0.3495 - acc: 0.8253\n",
      "Epoch 29/100\n",
      "750/750 [==============================] - 0s 87us/sample - loss: 0.3447 - acc: 0.8267\n",
      "Epoch 30/100\n",
      "750/750 [==============================] - 0s 85us/sample - loss: 0.3404 - acc: 0.8267\n",
      "Epoch 31/100\n",
      "750/750 [==============================] - 0s 99us/sample - loss: 0.3360 - acc: 0.8280\n",
      "Epoch 32/100\n",
      "750/750 [==============================] - 0s 92us/sample - loss: 0.3321 - acc: 0.8307\n",
      "Epoch 33/100\n",
      "750/750 [==============================] - 0s 84us/sample - loss: 0.3282 - acc: 0.8320\n",
      "Epoch 34/100\n",
      "750/750 [==============================] - 0s 97us/sample - loss: 0.3245 - acc: 0.8360\n",
      "Epoch 35/100\n",
      "750/750 [==============================] - 0s 80us/sample - loss: 0.3207 - acc: 0.8400\n",
      "Epoch 36/100\n",
      "750/750 [==============================] - 0s 72us/sample - loss: 0.3172 - acc: 0.8413\n",
      "Epoch 37/100\n",
      "750/750 [==============================] - 0s 79us/sample - loss: 0.3137 - acc: 0.8427\n",
      "Epoch 38/100\n",
      "750/750 [==============================] - 0s 93us/sample - loss: 0.3103 - acc: 0.8467\n",
      "Epoch 39/100\n",
      "750/750 [==============================] - 0s 89us/sample - loss: 0.3071 - acc: 0.8533\n",
      "Epoch 40/100\n",
      "750/750 [==============================] - 0s 101us/sample - loss: 0.3039 - acc: 0.8560\n",
      "Epoch 41/100\n",
      "750/750 [==============================] - 0s 87us/sample - loss: 0.3010 - acc: 0.8587\n",
      "Epoch 42/100\n",
      "750/750 [==============================] - 0s 91us/sample - loss: 0.2982 - acc: 0.8600\n",
      "Epoch 43/100\n",
      "750/750 [==============================] - 0s 85us/sample - loss: 0.2957 - acc: 0.8613\n",
      "Epoch 44/100\n",
      "750/750 [==============================] - 0s 103us/sample - loss: 0.2933 - acc: 0.8667\n",
      "Epoch 45/100\n",
      "750/750 [==============================] - 0s 91us/sample - loss: 0.2912 - acc: 0.8693\n",
      "Epoch 46/100\n",
      "750/750 [==============================] - 0s 89us/sample - loss: 0.2892 - acc: 0.8707\n",
      "Epoch 47/100\n",
      "750/750 [==============================] - 0s 73us/sample - loss: 0.2873 - acc: 0.8760\n",
      "Epoch 48/100\n",
      "750/750 [==============================] - 0s 84us/sample - loss: 0.2856 - acc: 0.8787\n",
      "Epoch 49/100\n",
      "750/750 [==============================] - 0s 88us/sample - loss: 0.2839 - acc: 0.8787\n",
      "Epoch 50/100\n",
      "750/750 [==============================] - 0s 99us/sample - loss: 0.2824 - acc: 0.8787\n",
      "Epoch 51/100\n",
      "750/750 [==============================] - 0s 84us/sample - loss: 0.2810 - acc: 0.8827\n",
      "Epoch 52/100\n",
      "750/750 [==============================] - 0s 115us/sample - loss: 0.2798 - acc: 0.8827\n",
      "Epoch 53/100\n",
      "750/750 [==============================] - 0s 100us/sample - loss: 0.2786 - acc: 0.8840\n",
      "Epoch 54/100\n",
      "750/750 [==============================] - 0s 83us/sample - loss: 0.2776 - acc: 0.8867\n",
      "Epoch 55/100\n",
      "750/750 [==============================] - 0s 84us/sample - loss: 0.2766 - acc: 0.8880\n",
      "Epoch 56/100\n",
      "750/750 [==============================] - 0s 84us/sample - loss: 0.2758 - acc: 0.8880\n",
      "Epoch 57/100\n",
      "750/750 [==============================] - 0s 72us/sample - loss: 0.2750 - acc: 0.8880\n",
      "Epoch 58/100\n",
      "750/750 [==============================] - 0s 71us/sample - loss: 0.2742 - acc: 0.8880\n",
      "Epoch 59/100\n",
      "750/750 [==============================] - 0s 71us/sample - loss: 0.2735 - acc: 0.8880\n",
      "Epoch 60/100\n",
      "750/750 [==============================] - 0s 83us/sample - loss: 0.2729 - acc: 0.8880\n",
      "Epoch 61/100\n",
      "750/750 [==============================] - 0s 83us/sample - loss: 0.2723 - acc: 0.8880\n",
      "Epoch 62/100\n",
      "750/750 [==============================] - 0s 91us/sample - loss: 0.2717 - acc: 0.8893\n",
      "Epoch 63/100\n",
      "750/750 [==============================] - 0s 79us/sample - loss: 0.2712 - acc: 0.8920\n",
      "Epoch 64/100\n",
      "750/750 [==============================] - 0s 108us/sample - loss: 0.2707 - acc: 0.8920\n",
      "Epoch 65/100\n",
      "750/750 [==============================] - 0s 108us/sample - loss: 0.2701 - acc: 0.8920\n",
      "Epoch 66/100\n",
      "750/750 [==============================] - 0s 119us/sample - loss: 0.2697 - acc: 0.8907\n",
      "Epoch 67/100\n",
      "750/750 [==============================] - 0s 116us/sample - loss: 0.2692 - acc: 0.8920\n",
      "Epoch 68/100\n",
      "750/750 [==============================] - 0s 109us/sample - loss: 0.2688 - acc: 0.8920\n",
      "Epoch 69/100\n",
      "750/750 [==============================] - 0s 95us/sample - loss: 0.2685 - acc: 0.8907\n",
      "Epoch 70/100\n",
      "750/750 [==============================] - 0s 88us/sample - loss: 0.2680 - acc: 0.8920\n",
      "Epoch 71/100\n",
      "750/750 [==============================] - 0s 107us/sample - loss: 0.2676 - acc: 0.8920\n",
      "Epoch 72/100\n",
      "750/750 [==============================] - 0s 89us/sample - loss: 0.2672 - acc: 0.8920\n",
      "Epoch 73/100\n",
      "750/750 [==============================] - 0s 93us/sample - loss: 0.2670 - acc: 0.8920\n",
      "Epoch 74/100\n",
      "750/750 [==============================] - 0s 91us/sample - loss: 0.2666 - acc: 0.8920\n",
      "Epoch 75/100\n",
      "750/750 [==============================] - 0s 105us/sample - loss: 0.2662 - acc: 0.8920\n",
      "Epoch 76/100\n",
      "750/750 [==============================] - 0s 92us/sample - loss: 0.2659 - acc: 0.8920\n",
      "Epoch 77/100\n",
      "750/750 [==============================] - 0s 96us/sample - loss: 0.2655 - acc: 0.8920\n",
      "Epoch 78/100\n",
      "750/750 [==============================] - 0s 79us/sample - loss: 0.2652 - acc: 0.8920\n",
      "Epoch 79/100\n",
      "750/750 [==============================] - 0s 92us/sample - loss: 0.2649 - acc: 0.8920\n",
      "Epoch 80/100\n",
      "750/750 [==============================] - 0s 107us/sample - loss: 0.2646 - acc: 0.8920\n",
      "Epoch 81/100\n",
      "750/750 [==============================] - 0s 83us/sample - loss: 0.2644 - acc: 0.8920\n",
      "Epoch 82/100\n"
     ]
    },
    {
     "name": "stdout",
     "output_type": "stream",
     "text": [
      "750/750 [==============================] - 0s 92us/sample - loss: 0.2641 - acc: 0.8920\n",
      "Epoch 83/100\n",
      "750/750 [==============================] - 0s 84us/sample - loss: 0.2638 - acc: 0.8920\n",
      "Epoch 84/100\n",
      "750/750 [==============================] - 0s 80us/sample - loss: 0.2636 - acc: 0.8920\n",
      "Epoch 85/100\n",
      "750/750 [==============================] - 0s 85us/sample - loss: 0.2633 - acc: 0.8920\n",
      "Epoch 86/100\n",
      "750/750 [==============================] - 0s 69us/sample - loss: 0.2631 - acc: 0.8920\n",
      "Epoch 87/100\n",
      "750/750 [==============================] - 0s 68us/sample - loss: 0.2628 - acc: 0.8920\n",
      "Epoch 88/100\n",
      "750/750 [==============================] - 0s 72us/sample - loss: 0.2626 - acc: 0.8920\n",
      "Epoch 89/100\n",
      "750/750 [==============================] - 0s 91us/sample - loss: 0.2624 - acc: 0.8920\n",
      "Epoch 90/100\n",
      "750/750 [==============================] - 0s 127us/sample - loss: 0.2622 - acc: 0.8920\n",
      "Epoch 91/100\n",
      "750/750 [==============================] - 0s 77us/sample - loss: 0.2619 - acc: 0.8920\n",
      "Epoch 92/100\n",
      "750/750 [==============================] - 0s 85us/sample - loss: 0.2617 - acc: 0.8920\n",
      "Epoch 93/100\n",
      "750/750 [==============================] - 0s 88us/sample - loss: 0.2615 - acc: 0.8920\n",
      "Epoch 94/100\n",
      "750/750 [==============================] - 0s 73us/sample - loss: 0.2614 - acc: 0.8920\n",
      "Epoch 95/100\n",
      "750/750 [==============================] - 0s 68us/sample - loss: 0.2612 - acc: 0.8920\n",
      "Epoch 96/100\n",
      "750/750 [==============================] - 0s 97us/sample - loss: 0.2609 - acc: 0.8920\n",
      "Epoch 97/100\n",
      "750/750 [==============================] - 0s 106us/sample - loss: 0.2608 - acc: 0.8920\n",
      "Epoch 98/100\n",
      "750/750 [==============================] - 0s 101us/sample - loss: 0.2605 - acc: 0.8920\n",
      "Epoch 99/100\n",
      "750/750 [==============================] - 0s 107us/sample - loss: 0.2603 - acc: 0.8920\n",
      "Epoch 100/100\n",
      "750/750 [==============================] - 0s 104us/sample - loss: 0.2602 - acc: 0.8907\n"
     ]
    }
   ],
   "source": [
    "# Training the model with the nonlinear data\n",
    "model_moon = nn_model.fit(X_moon_train_scaled, y_moon_train, epochs=100, shuffle=True)"
   ]
  },
  {
   "cell_type": "code",
   "execution_count": 18,
   "metadata": {},
   "outputs": [
    {
     "data": {
      "text/plain": [
       "<matplotlib.axes._subplots.AxesSubplot at 0x287efcc2d08>"
      ]
     },
     "execution_count": 18,
     "metadata": {},
     "output_type": "execute_result"
    },
    {
     "data": {
      "image/png": "[encoded data removed]",
      "text/plain": [
       "<Figure size 432x288 with 1 Axes>"
      ]
     },
     "metadata": {
      "needs_background": "light"
     },
     "output_type": "display_data"
    }
   ],
   "source": [
    "# Create a DataFrame containing training history\n",
    "history_df = pd.DataFrame(model_moon.history, index=range(1,len(model_moon.history[\"loss\"])+1))\n",
    "\n",
    "# Plot the loss\n",
    "history_df.plot(y=\"loss\")"
   ]
  },
  {
   "cell_type": "code",
   "execution_count": 19,
   "metadata": {},
   "outputs": [
    {
     "ename": "KeyError",
     "evalue": "'accuracy'",
     "output_type": "error",
     "traceback": [
      "\u001b[1;31m---------------------------------------------------------------------------\u001b[0m",
      "\u001b[1;31mKeyError\u001b[0m                                  Traceback (most recent call last)",
      "\u001b[1;32m~\\anaconda3\\envs\\mlenv\\lib\\site-packages\\pandas\\core\\indexes\\base.py\u001b[0m in \u001b[0;36mget_loc\u001b[1;34m(self, key, method, tolerance)\u001b[0m\n\u001b[0;32m   2645\u001b[0m             \u001b[1;32mtry\u001b[0m\u001b[1;33m:\u001b[0m\u001b[1;33m\u001b[0m\u001b[1;33m\u001b[0m\u001b[0m\n\u001b[1;32m-> 2646\u001b[1;33m                 \u001b[1;32mreturn\u001b[0m \u001b[0mself\u001b[0m\u001b[1;33m.\u001b[0m\u001b[0m_engine\u001b[0m\u001b[1;33m.\u001b[0m\u001b[0mget_loc\u001b[0m\u001b[1;33m(\u001b[0m\u001b[0mkey\u001b[0m\u001b[1;33m)\u001b[0m\u001b[1;33m\u001b[0m\u001b[1;33m\u001b[0m\u001b[0m\n\u001b[0m\u001b[0;32m   2647\u001b[0m             \u001b[1;32mexcept\u001b[0m \u001b[0mKeyError\u001b[0m\u001b[1;33m:\u001b[0m\u001b[1;33m\u001b[0m\u001b[1;33m\u001b[0m\u001b[0m\n",
      "\u001b[1;32mpandas\\_libs\\index.pyx\u001b[0m in \u001b[0;36mpandas._libs.index.IndexEngine.get_loc\u001b[1;34m()\u001b[0m\n",
      "\u001b[1;32mpandas\\_libs\\index.pyx\u001b[0m in \u001b[0;36mpandas._libs.index.IndexEngine.get_loc\u001b[1;34m()\u001b[0m\n",
      "\u001b[1;32mpandas\\_libs\\hashtable_class_helper.pxi\u001b[0m in \u001b[0;36mpandas._libs.hashtable.PyObjectHashTable.get_item\u001b[1;34m()\u001b[0m\n",
      "\u001b[1;32mpandas\\_libs\\hashtable_class_helper.pxi\u001b[0m in \u001b[0;36mpandas._libs.hashtable.PyObjectHashTable.get_item\u001b[1;34m()\u001b[0m\n",
      "\u001b[1;31mKeyError\u001b[0m: 'accuracy'",
      "\nDuring handling of the above exception, another exception occurred:\n",
      "\u001b[1;31mKeyError\u001b[0m                                  Traceback (most recent call last)",
      "\u001b[1;32m<ipython-input-19-d03690de7419>\u001b[0m in \u001b[0;36m<module>\u001b[1;34m\u001b[0m\n\u001b[0;32m      1\u001b[0m \u001b[1;31m# Plot the loss\u001b[0m\u001b[1;33m\u001b[0m\u001b[1;33m\u001b[0m\u001b[1;33m\u001b[0m\u001b[0m\n\u001b[1;32m----> 2\u001b[1;33m \u001b[0mhistory_df\u001b[0m\u001b[1;33m.\u001b[0m\u001b[0mplot\u001b[0m\u001b[1;33m(\u001b[0m\u001b[0my\u001b[0m\u001b[1;33m=\u001b[0m\u001b[1;34m\"accuracy\"\u001b[0m\u001b[1;33m)\u001b[0m\u001b[1;33m\u001b[0m\u001b[1;33m\u001b[0m\u001b[0m\n\u001b[0m",
      "\u001b[1;32m~\\anaconda3\\envs\\mlenv\\lib\\site-packages\\pandas\\plotting\\_core.py\u001b[0m in \u001b[0;36m__call__\u001b[1;34m(self, *args, **kwargs)\u001b[0m\n\u001b[0;32m    831\u001b[0m \u001b[1;33m\u001b[0m\u001b[0m\n\u001b[0;32m    832\u001b[0m                 \u001b[1;31m# don't overwrite\u001b[0m\u001b[1;33m\u001b[0m\u001b[1;33m\u001b[0m\u001b[1;33m\u001b[0m\u001b[0m\n\u001b[1;32m--> 833\u001b[1;33m                 \u001b[0mdata\u001b[0m \u001b[1;33m=\u001b[0m \u001b[0mdata\u001b[0m\u001b[1;33m[\u001b[0m\u001b[0my\u001b[0m\u001b[1;33m]\u001b[0m\u001b[1;33m.\u001b[0m\u001b[0mcopy\u001b[0m\u001b[1;33m(\u001b[0m\u001b[1;33m)\u001b[0m\u001b[1;33m\u001b[0m\u001b[1;33m\u001b[0m\u001b[0m\n\u001b[0m\u001b[0;32m    834\u001b[0m \u001b[1;33m\u001b[0m\u001b[0m\n\u001b[0;32m    835\u001b[0m                 \u001b[1;32mif\u001b[0m \u001b[0misinstance\u001b[0m\u001b[1;33m(\u001b[0m\u001b[0mdata\u001b[0m\u001b[1;33m,\u001b[0m \u001b[0mABCSeries\u001b[0m\u001b[1;33m)\u001b[0m\u001b[1;33m:\u001b[0m\u001b[1;33m\u001b[0m\u001b[1;33m\u001b[0m\u001b[0m\n",
      "\u001b[1;32m~\\anaconda3\\envs\\mlenv\\lib\\site-packages\\pandas\\core\\frame.py\u001b[0m in \u001b[0;36m__getitem__\u001b[1;34m(self, key)\u001b[0m\n\u001b[0;32m   2798\u001b[0m             \u001b[1;32mif\u001b[0m \u001b[0mself\u001b[0m\u001b[1;33m.\u001b[0m\u001b[0mcolumns\u001b[0m\u001b[1;33m.\u001b[0m\u001b[0mnlevels\u001b[0m \u001b[1;33m>\u001b[0m \u001b[1;36m1\u001b[0m\u001b[1;33m:\u001b[0m\u001b[1;33m\u001b[0m\u001b[1;33m\u001b[0m\u001b[0m\n\u001b[0;32m   2799\u001b[0m                 \u001b[1;32mreturn\u001b[0m \u001b[0mself\u001b[0m\u001b[1;33m.\u001b[0m\u001b[0m_getitem_multilevel\u001b[0m\u001b[1;33m(\u001b[0m\u001b[0mkey\u001b[0m\u001b[1;33m)\u001b[0m\u001b[1;33m\u001b[0m\u001b[1;33m\u001b[0m\u001b[0m\n\u001b[1;32m-> 2800\u001b[1;33m             \u001b[0mindexer\u001b[0m \u001b[1;33m=\u001b[0m \u001b[0mself\u001b[0m\u001b[1;33m.\u001b[0m\u001b[0mcolumns\u001b[0m\u001b[1;33m.\u001b[0m\u001b[0mget_loc\u001b[0m\u001b[1;33m(\u001b[0m\u001b[0mkey\u001b[0m\u001b[1;33m)\u001b[0m\u001b[1;33m\u001b[0m\u001b[1;33m\u001b[0m\u001b[0m\n\u001b[0m\u001b[0;32m   2801\u001b[0m             \u001b[1;32mif\u001b[0m \u001b[0mis_integer\u001b[0m\u001b[1;33m(\u001b[0m\u001b[0mindexer\u001b[0m\u001b[1;33m)\u001b[0m\u001b[1;33m:\u001b[0m\u001b[1;33m\u001b[0m\u001b[1;33m\u001b[0m\u001b[0m\n\u001b[0;32m   2802\u001b[0m                 \u001b[0mindexer\u001b[0m \u001b[1;33m=\u001b[0m \u001b[1;33m[\u001b[0m\u001b[0mindexer\u001b[0m\u001b[1;33m]\u001b[0m\u001b[1;33m\u001b[0m\u001b[1;33m\u001b[0m\u001b[0m\n",
      "\u001b[1;32m~\\anaconda3\\envs\\mlenv\\lib\\site-packages\\pandas\\core\\indexes\\base.py\u001b[0m in \u001b[0;36mget_loc\u001b[1;34m(self, key, method, tolerance)\u001b[0m\n\u001b[0;32m   2646\u001b[0m                 \u001b[1;32mreturn\u001b[0m \u001b[0mself\u001b[0m\u001b[1;33m.\u001b[0m\u001b[0m_engine\u001b[0m\u001b[1;33m.\u001b[0m\u001b[0mget_loc\u001b[0m\u001b[1;33m(\u001b[0m\u001b[0mkey\u001b[0m\u001b[1;33m)\u001b[0m\u001b[1;33m\u001b[0m\u001b[1;33m\u001b[0m\u001b[0m\n\u001b[0;32m   2647\u001b[0m             \u001b[1;32mexcept\u001b[0m \u001b[0mKeyError\u001b[0m\u001b[1;33m:\u001b[0m\u001b[1;33m\u001b[0m\u001b[1;33m\u001b[0m\u001b[0m\n\u001b[1;32m-> 2648\u001b[1;33m                 \u001b[1;32mreturn\u001b[0m \u001b[0mself\u001b[0m\u001b[1;33m.\u001b[0m\u001b[0m_engine\u001b[0m\u001b[1;33m.\u001b[0m\u001b[0mget_loc\u001b[0m\u001b[1;33m(\u001b[0m\u001b[0mself\u001b[0m\u001b[1;33m.\u001b[0m\u001b[0m_maybe_cast_indexer\u001b[0m\u001b[1;33m(\u001b[0m\u001b[0mkey\u001b[0m\u001b[1;33m)\u001b[0m\u001b[1;33m)\u001b[0m\u001b[1;33m\u001b[0m\u001b[1;33m\u001b[0m\u001b[0m\n\u001b[0m\u001b[0;32m   2649\u001b[0m         \u001b[0mindexer\u001b[0m \u001b[1;33m=\u001b[0m \u001b[0mself\u001b[0m\u001b[1;33m.\u001b[0m\u001b[0mget_indexer\u001b[0m\u001b[1;33m(\u001b[0m\u001b[1;33m[\u001b[0m\u001b[0mkey\u001b[0m\u001b[1;33m]\u001b[0m\u001b[1;33m,\u001b[0m \u001b[0mmethod\u001b[0m\u001b[1;33m=\u001b[0m\u001b[0mmethod\u001b[0m\u001b[1;33m,\u001b[0m \u001b[0mtolerance\u001b[0m\u001b[1;33m=\u001b[0m\u001b[0mtolerance\u001b[0m\u001b[1;33m)\u001b[0m\u001b[1;33m\u001b[0m\u001b[1;33m\u001b[0m\u001b[0m\n\u001b[0;32m   2650\u001b[0m         \u001b[1;32mif\u001b[0m \u001b[0mindexer\u001b[0m\u001b[1;33m.\u001b[0m\u001b[0mndim\u001b[0m \u001b[1;33m>\u001b[0m \u001b[1;36m1\u001b[0m \u001b[1;32mor\u001b[0m \u001b[0mindexer\u001b[0m\u001b[1;33m.\u001b[0m\u001b[0msize\u001b[0m \u001b[1;33m>\u001b[0m \u001b[1;36m1\u001b[0m\u001b[1;33m:\u001b[0m\u001b[1;33m\u001b[0m\u001b[1;33m\u001b[0m\u001b[0m\n",
      "\u001b[1;32mpandas\\_libs\\index.pyx\u001b[0m in \u001b[0;36mpandas._libs.index.IndexEngine.get_loc\u001b[1;34m()\u001b[0m\n",
      "\u001b[1;32mpandas\\_libs\\index.pyx\u001b[0m in \u001b[0;36mpandas._libs.index.IndexEngine.get_loc\u001b[1;34m()\u001b[0m\n",
      "\u001b[1;32mpandas\\_libs\\hashtable_class_helper.pxi\u001b[0m in \u001b[0;36mpandas._libs.hashtable.PyObjectHashTable.get_item\u001b[1;34m()\u001b[0m\n",
      "\u001b[1;32mpandas\\_libs\\hashtable_class_helper.pxi\u001b[0m in \u001b[0;36mpandas._libs.hashtable.PyObjectHashTable.get_item\u001b[1;34m()\u001b[0m\n",
      "\u001b[1;31mKeyError\u001b[0m: 'accuracy'"
     ]
    }
   ],
   "source": [
    "# Plot the loss\n",
    "history_df.plot(y=\"accuracy\")"
   ]
  },
  {
   "cell_type": "code",
   "execution_count": 20,
   "metadata": {},
   "outputs": [],
   "source": [
    "# Generate our new Sequential model\n",
    "new_model = tf.keras.models.Sequential()"
   ]
  },
  {
   "cell_type": "code",
   "execution_count": 21,
   "metadata": {},
   "outputs": [
    {
     "ename": "AttributeError",
     "evalue": "'Sequential' object has no attribute 'a'",
     "output_type": "error",
     "traceback": [
      "\u001b[1;31m---------------------------------------------------------------------------\u001b[0m",
      "\u001b[1;31mAttributeError\u001b[0m                            Traceback (most recent call last)",
      "\u001b[1;32m<ipython-input-21-32874c579338>\u001b[0m in \u001b[0;36m<module>\u001b[1;34m\u001b[0m\n\u001b[0;32m      3\u001b[0m \u001b[0mnumber_hidden_nodes\u001b[0m \u001b[1;33m=\u001b[0m \u001b[1;36m6\u001b[0m\u001b[1;33m\u001b[0m\u001b[1;33m\u001b[0m\u001b[0m\n\u001b[0;32m      4\u001b[0m \u001b[1;33m\u001b[0m\u001b[0m\n\u001b[1;32m----> 5\u001b[1;33m \u001b[0mnew_model\u001b[0m\u001b[1;33m.\u001b[0m\u001b[0ma\u001b[0m\u001b[1;31m# Compile the Sequential model together and customize metrics\u001b[0m\u001b[1;33m\u001b[0m\u001b[1;33m\u001b[0m\u001b[0m\n\u001b[0m\u001b[0;32m      6\u001b[0m \u001b[0mnew_model\u001b[0m\u001b[1;33m.\u001b[0m\u001b[0mcompile\u001b[0m\u001b[1;33m(\u001b[0m\u001b[0mloss\u001b[0m\u001b[1;33m=\u001b[0m\u001b[1;34m\"binary_crossentropy\"\u001b[0m\u001b[1;33m,\u001b[0m \u001b[0moptimizer\u001b[0m\u001b[1;33m=\u001b[0m\u001b[1;34m\"adam\"\u001b[0m\u001b[1;33m,\u001b[0m \u001b[0mmetrics\u001b[0m\u001b[1;33m=\u001b[0m\u001b[1;33m[\u001b[0m\u001b[1;34m\"accuracy\"\u001b[0m\u001b[1;33m]\u001b[0m\u001b[1;33m)\u001b[0m\u001b[1;33m\u001b[0m\u001b[1;33m\u001b[0m\u001b[0m\n",
      "\u001b[1;31mAttributeError\u001b[0m: 'Sequential' object has no attribute 'a'"
     ]
    }
   ],
   "source": [
    "# Add the input and hidden layer\n",
    "number_inputs = 2\n",
    "number_hidden_nodes = 6\n",
    "\n",
    "new_model.a# Compile the Sequential model together and customize metrics\n",
    "new_model.compile(loss=\"binary_crossentropy\", optimizer=\"adam\", metrics=[\"accuracy\"])"
   ]
  },
  {
   "cell_type": "code",
   "execution_count": 22,
   "metadata": {},
   "outputs": [
    {
     "name": "stdout",
     "output_type": "stream",
     "text": [
      "Epoch 1/100\n",
      "750/750 [==============================] - 0s 617us/sample - loss: 6.2379 - acc: 0.4507\n",
      "Epoch 2/100\n",
      "750/750 [==============================] - 0s 57us/sample - loss: 6.2379 - acc: 0.4507\n",
      "Epoch 3/100\n",
      "750/750 [==============================] - 0s 65us/sample - loss: 6.2379 - acc: 0.4507\n",
      "Epoch 4/100\n",
      "750/750 [==============================] - 0s 57us/sample - loss: 6.2379 - acc: 0.4507\n",
      "Epoch 5/100\n",
      "750/750 [==============================] - 0s 58us/sample - loss: 6.2379 - acc: 0.4507\n",
      "Epoch 6/100\n",
      "750/750 [==============================] - 0s 60us/sample - loss: 6.2379 - acc: 0.4507\n",
      "Epoch 7/100\n",
      "750/750 [==============================] - 0s 101us/sample - loss: 6.2379 - acc: 0.4507\n",
      "Epoch 8/100\n",
      "750/750 [==============================] - 0s 116us/sample - loss: 6.2379 - acc: 0.4507\n",
      "Epoch 9/100\n",
      "750/750 [==============================] - 0s 267us/sample - loss: 6.2379 - acc: 0.4507\n",
      "Epoch 10/100\n",
      "750/750 [==============================] - 0s 113us/sample - loss: 6.2379 - acc: 0.4507\n",
      "Epoch 11/100\n",
      "750/750 [==============================] - 0s 97us/sample - loss: 6.2379 - acc: 0.4507\n",
      "Epoch 12/100\n",
      "750/750 [==============================] - 0s 79us/sample - loss: 6.2379 - acc: 0.4507\n",
      "Epoch 13/100\n",
      "750/750 [==============================] - 0s 101us/sample - loss: 6.2379 - acc: 0.4507\n",
      "Epoch 14/100\n",
      "750/750 [==============================] - 0s 55us/sample - loss: 6.2379 - acc: 0.4507\n",
      "Epoch 15/100\n",
      "750/750 [==============================] - 0s 63us/sample - loss: 6.2379 - acc: 0.4507\n",
      "Epoch 16/100\n",
      "750/750 [==============================] - 0s 63us/sample - loss: 6.2379 - acc: 0.4507\n",
      "Epoch 17/100\n",
      "750/750 [==============================] - 0s 58us/sample - loss: 6.2379 - acc: 0.4507\n",
      "Epoch 18/100\n",
      "750/750 [==============================] - 0s 64us/sample - loss: 6.2379 - acc: 0.4507\n",
      "Epoch 19/100\n",
      "750/750 [==============================] - 0s 59us/sample - loss: 6.2379 - acc: 0.4507\n",
      "Epoch 20/100\n",
      "750/750 [==============================] - 0s 54us/sample - loss: 6.2379 - acc: 0.4507\n",
      "Epoch 21/100\n",
      "750/750 [==============================] - 0s 57us/sample - loss: 6.2379 - acc: 0.4507\n",
      "Epoch 22/100\n",
      "750/750 [==============================] - 0s 59us/sample - loss: 6.2379 - acc: 0.4507\n",
      "Epoch 23/100\n",
      "750/750 [==============================] - 0s 56us/sample - loss: 6.2379 - acc: 0.4507\n",
      "Epoch 24/100\n",
      "750/750 [==============================] - 0s 101us/sample - loss: 6.2379 - acc: 0.4507\n",
      "Epoch 25/100\n",
      "750/750 [==============================] - 0s 107us/sample - loss: 6.2379 - acc: 0.4507\n",
      "Epoch 26/100\n",
      "750/750 [==============================] - 0s 129us/sample - loss: 6.2379 - acc: 0.4507\n",
      "Epoch 27/100\n",
      "750/750 [==============================] - 0s 53us/sample - loss: 6.2379 - acc: 0.4507\n",
      "Epoch 28/100\n",
      "750/750 [==============================] - 0s 63us/sample - loss: 6.2379 - acc: 0.4507\n",
      "Epoch 29/100\n",
      "750/750 [==============================] - 0s 123us/sample - loss: 6.2379 - acc: 0.4507\n",
      "Epoch 30/100\n",
      "750/750 [==============================] - 0s 120us/sample - loss: 6.2379 - acc: 0.4507\n",
      "Epoch 31/100\n",
      "750/750 [==============================] - 0s 79us/sample - loss: 6.2379 - acc: 0.4507\n",
      "Epoch 32/100\n",
      "750/750 [==============================] - 0s 57us/sample - loss: 6.2379 - acc: 0.4507\n",
      "Epoch 33/100\n",
      "750/750 [==============================] - 0s 100us/sample - loss: 6.2379 - acc: 0.4507\n",
      "Epoch 34/100\n",
      "750/750 [==============================] - 0s 135us/sample - loss: 6.2379 - acc: 0.4507\n",
      "Epoch 35/100\n",
      "750/750 [==============================] - 0s 108us/sample - loss: 6.2379 - acc: 0.4507\n",
      "Epoch 36/100\n",
      "750/750 [==============================] - 0s 71us/sample - loss: 6.2379 - acc: 0.4507\n",
      "Epoch 37/100\n",
      "750/750 [==============================] - 0s 61us/sample - loss: 6.2379 - acc: 0.4507\n",
      "Epoch 38/100\n",
      "750/750 [==============================] - 0s 61us/sample - loss: 6.2379 - acc: 0.4507\n",
      "Epoch 39/100\n",
      "750/750 [==============================] - 0s 137us/sample - loss: 6.2379 - acc: 0.4507\n",
      "Epoch 40/100\n",
      "750/750 [==============================] - 0s 113us/sample - loss: 6.2379 - acc: 0.4507\n",
      "Epoch 41/100\n",
      "750/750 [==============================] - 0s 101us/sample - loss: 6.2379 - acc: 0.4507\n",
      "Epoch 42/100\n",
      "750/750 [==============================] - 0s 91us/sample - loss: 6.2379 - acc: 0.4507\n",
      "Epoch 43/100\n",
      "750/750 [==============================] - 0s 92us/sample - loss: 6.2379 - acc: 0.4507\n",
      "Epoch 44/100\n",
      "750/750 [==============================] - 0s 127us/sample - loss: 6.2379 - acc: 0.4507\n",
      "Epoch 45/100\n",
      "750/750 [==============================] - 0s 103us/sample - loss: 6.2379 - acc: 0.4507\n",
      "Epoch 46/100\n",
      "750/750 [==============================] - 0s 69us/sample - loss: 6.2379 - acc: 0.4507\n",
      "Epoch 47/100\n",
      "750/750 [==============================] - 0s 64us/sample - loss: 6.2379 - acc: 0.4507\n",
      "Epoch 48/100\n",
      "750/750 [==============================] - 0s 77us/sample - loss: 6.2379 - acc: 0.4507\n",
      "Epoch 49/100\n",
      "750/750 [==============================] - 0s 154us/sample - loss: 6.2379 - acc: 0.4507\n",
      "Epoch 50/100\n",
      "750/750 [==============================] - 0s 85us/sample - loss: 6.2379 - acc: 0.4507\n",
      "Epoch 51/100\n",
      "750/750 [==============================] - 0s 71us/sample - loss: 6.2379 - acc: 0.4507\n",
      "Epoch 52/100\n",
      "750/750 [==============================] - 0s 63us/sample - loss: 6.2379 - acc: 0.4507\n",
      "Epoch 53/100\n",
      "750/750 [==============================] - 0s 95us/sample - loss: 6.2379 - acc: 0.4507\n",
      "Epoch 54/100\n",
      "750/750 [==============================] - 0s 83us/sample - loss: 6.2379 - acc: 0.4507\n",
      "Epoch 55/100\n",
      "750/750 [==============================] - 0s 61us/sample - loss: 6.2379 - acc: 0.4507\n",
      "Epoch 56/100\n",
      "750/750 [==============================] - 0s 61us/sample - loss: 6.2379 - acc: 0.4507\n",
      "Epoch 57/100\n",
      "750/750 [==============================] - 0s 63us/sample - loss: 6.2379 - acc: 0.4507\n",
      "Epoch 58/100\n",
      "750/750 [==============================] - 0s 69us/sample - loss: 6.2379 - acc: 0.4507\n",
      "Epoch 59/100\n",
      "750/750 [==============================] - 0s 67us/sample - loss: 6.2379 - acc: 0.4507\n",
      "Epoch 60/100\n",
      "750/750 [==============================] - 0s 55us/sample - loss: 6.2379 - acc: 0.4507\n",
      "Epoch 61/100\n",
      "750/750 [==============================] - 0s 63us/sample - loss: 6.2379 - acc: 0.4507\n",
      "Epoch 62/100\n",
      "750/750 [==============================] - 0s 51us/sample - loss: 6.2379 - acc: 0.4507\n",
      "Epoch 63/100\n",
      "750/750 [==============================] - 0s 53us/sample - loss: 6.2379 - acc: 0.4507\n",
      "Epoch 64/100\n",
      "750/750 [==============================] - 0s 57us/sample - loss: 6.2379 - acc: 0.4507\n",
      "Epoch 65/100\n",
      "750/750 [==============================] - 0s 59us/sample - loss: 6.2379 - acc: 0.4507\n",
      "Epoch 66/100\n",
      "750/750 [==============================] - 0s 53us/sample - loss: 6.2379 - acc: 0.4507\n",
      "Epoch 67/100\n",
      "750/750 [==============================] - 0s 69us/sample - loss: 6.2379 - acc: 0.4507\n",
      "Epoch 68/100\n",
      "750/750 [==============================] - 0s 56us/sample - loss: 6.2379 - acc: 0.4507\n",
      "Epoch 69/100\n",
      "750/750 [==============================] - 0s 61us/sample - loss: 6.2379 - acc: 0.4507\n",
      "Epoch 70/100\n",
      "750/750 [==============================] - 0s 62us/sample - loss: 6.2379 - acc: 0.4507\n",
      "Epoch 71/100\n",
      "750/750 [==============================] - 0s 67us/sample - loss: 6.2379 - acc: 0.4507\n",
      "Epoch 72/100\n",
      "750/750 [==============================] - 0s 53us/sample - loss: 6.2379 - acc: 0.4507\n",
      "Epoch 73/100\n",
      "750/750 [==============================] - 0s 52us/sample - loss: 6.2379 - acc: 0.4507\n",
      "Epoch 74/100\n",
      "750/750 [==============================] - 0s 64us/sample - loss: 6.2379 - acc: 0.4507\n",
      "Epoch 75/100\n",
      "750/750 [==============================] - 0s 63us/sample - loss: 6.2379 - acc: 0.4507\n",
      "Epoch 76/100\n",
      "750/750 [==============================] - 0s 85us/sample - loss: 6.2379 - acc: 0.4507\n",
      "Epoch 77/100\n",
      "750/750 [==============================] - 0s 91us/sample - loss: 6.2379 - acc: 0.4507\n",
      "Epoch 78/100\n",
      "750/750 [==============================] - 0s 98us/sample - loss: 6.2379 - acc: 0.4507\n",
      "Epoch 79/100\n",
      "750/750 [==============================] - 0s 93us/sample - loss: 6.2379 - acc: 0.4507\n",
      "Epoch 80/100\n",
      "750/750 [==============================] - 0s 99us/sample - loss: 6.2379 - acc: 0.4507\n",
      "Epoch 81/100\n",
      "750/750 [==============================] - 0s 103us/sample - loss: 6.2379 - acc: 0.4507\n",
      "Epoch 82/100\n"
     ]
    },
    {
     "name": "stdout",
     "output_type": "stream",
     "text": [
      "750/750 [==============================] - 0s 101us/sample - loss: 6.2379 - acc: 0.4507\n",
      "Epoch 83/100\n",
      "750/750 [==============================] - 0s 61us/sample - loss: 6.2379 - acc: 0.4507\n",
      "Epoch 84/100\n",
      "750/750 [==============================] - 0s 49us/sample - loss: 6.2379 - acc: 0.4507\n",
      "Epoch 85/100\n",
      "750/750 [==============================] - 0s 53us/sample - loss: 6.2379 - acc: 0.4507\n",
      "Epoch 86/100\n",
      "750/750 [==============================] - 0s 52us/sample - loss: 6.2379 - acc: 0.4507\n",
      "Epoch 87/100\n",
      "750/750 [==============================] - 0s 59us/sample - loss: 6.2379 - acc: 0.4507\n",
      "Epoch 88/100\n",
      "750/750 [==============================] - 0s 56us/sample - loss: 6.2379 - acc: 0.4507\n",
      "Epoch 89/100\n",
      "750/750 [==============================] - 0s 65us/sample - loss: 6.2379 - acc: 0.4507\n",
      "Epoch 90/100\n",
      "750/750 [==============================] - 0s 58us/sample - loss: 6.2379 - acc: 0.4507\n",
      "Epoch 91/100\n",
      "750/750 [==============================] - 0s 53us/sample - loss: 6.2379 - acc: 0.4507\n",
      "Epoch 92/100\n",
      "750/750 [==============================] - 0s 47us/sample - loss: 6.2379 - acc: 0.4507\n",
      "Epoch 93/100\n",
      "750/750 [==============================] - 0s 49us/sample - loss: 6.2379 - acc: 0.4507\n",
      "Epoch 94/100\n",
      "750/750 [==============================] - 0s 77us/sample - loss: 6.2379 - acc: 0.4507\n",
      "Epoch 95/100\n",
      "750/750 [==============================] - 0s 80us/sample - loss: 6.2379 - acc: 0.4507\n",
      "Epoch 96/100\n",
      "750/750 [==============================] - 0s 85us/sample - loss: 6.2379 - acc: 0.4507\n",
      "Epoch 97/100\n",
      "750/750 [==============================] - 0s 91us/sample - loss: 6.2379 - acc: 0.4507\n",
      "Epoch 98/100\n",
      "750/750 [==============================] - 0s 75us/sample - loss: 6.2379 - acc: 0.4507\n",
      "Epoch 99/100\n",
      "750/750 [==============================] - 0s 47us/sample - loss: 6.2379 - acc: 0.4507\n",
      "Epoch 100/100\n",
      "750/750 [==============================] - 0s 48us/sample - loss: 6.2379 - acc: 0.4507\n"
     ]
    }
   ],
   "source": [
    "# Compile the Sequential model together and customize metrics\n",
    "new_model.compile(loss=\"binary_crossentropy\", optimizer=\"adam\", metrics=[\"accuracy\"])\n",
    "\n",
    "# Fit the model to the training data\n",
    "new_fit_model = new_model.fit(X_moon_train_scaled, y_moon_train, epochs=100, shuffle=True)"
   ]
  },
  {
   "cell_type": "code",
   "execution_count": null,
   "metadata": {},
   "outputs": [],
   "source": []
  }
 ],
 "metadata": {
  "kernelspec": {
   "display_name": "mlenv",
   "language": "python",
   "name": "mlenv"
  },
  "language_info": {
   "codemirror_mode": {
    "name": "ipython",
    "version": 3
   },
   "file_extension": ".py",
   "mimetype": "text/x-python",
   "name": "python",
   "nbconvert_exporter": "python",
   "pygments_lexer": "ipython3",
   "version": "3.7.7"
  }
 },
 "nbformat": 4,
 "nbformat_minor": 4
}
